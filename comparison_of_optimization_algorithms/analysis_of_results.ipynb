{
 "cells": [
  {
   "cell_type": "code",
   "execution_count": 19,
   "metadata": {},
   "outputs": [],
   "source": [
    "from matplotlib import pyplot as plt\n",
    "import pandas as pd\n",
    "import seaborn as sns\n",
    "import numpy as np\n",
    "sns.set_theme(style=\"darkgrid\", palette=\"tab10\", font='Times New Roman')"
   ]
  },
  {
   "cell_type": "markdown",
   "metadata": {},
   "source": [
    "## The average convergence curves of 4 different algorithms\n",
    "- SGA\n",
    "- PSO\n",
    "- GWO\n",
    "- IGA"
   ]
  },
  {
   "cell_type": "code",
   "execution_count": 21,
   "metadata": {},
   "outputs": [
    {
     "data": {
      "image/png": "[encoded data removed]",
      "text/plain": [
       "<Figure size 432x288 with 1 Axes>"
      ]
     },
     "metadata": {},
     "output_type": "display_data"
    }
   ],
   "source": [
    "for i in range(1,5):\n",
    "    df1=pd.read_csv('./data/'+str(i)+'SGA.csv',index_col=[0])\n",
    "    df2=pd.read_csv('./data/'+str(i)+'PSO.csv',index_col=[0])\n",
    "    df3=pd.read_csv('./data/'+str(i)+'GWO.csv',index_col=[0])\n",
    "    df4=pd.read_csv('./data/'+str(i)+'IGA.csv',index_col=[0])\n",
    "    df1_grouped=df1[['iter','z','time']].groupby('iter').mean()\n",
    "    df2_grouped=df2[['iter','z','time']].groupby('iter').mean()\n",
    "    df3_grouped=df3[['iter','z','time']].groupby('iter').mean()\n",
    "    df4_grouped=df4[['iter','z','time']].groupby('iter').mean()\n",
    "    df_grouped=pd.concat([df1_grouped.z,df2_grouped.z,df3_grouped.z,df4_grouped.z],keys=['SGA','PSO','GWO','IGA'],axis=1)\n",
    "    sns.lineplot(data=df_grouped, linewidth=2)\n",
    "    plt.xlabel('iteration')\n",
    "    plt.ylabel('f(x)')\n",
    "    plt.tight_layout()\n",
    "    plt.show()\n",
    "    # plt.savefig('./images/'+str(i)+'.pdf')\n",
    "    plt.cla()\n"
   ]
  },
  {
   "cell_type": "markdown",
   "metadata": {},
   "source": [
    "## The density of the last iteration"
   ]
  },
  {
   "cell_type": "code",
   "execution_count": 24,
   "metadata": {},
   "outputs": [],
   "source": [
    "# for i in range(1,5):\n",
    "#     df1=pd.read_csv('./data/'+str(i)+'GWO_final_population.csv',index_col=[0])\n",
    "#     df1['z']=-df1['z']\n",
    "#     df1.to_csv('./data/'+str(i)+'GWO_final_population.csv')"
   ]
  },
  {
   "cell_type": "code",
   "execution_count": 20,
   "metadata": {},
   "outputs": [
    {
     "data": {
      "image/png": "[encoded data removed]",
      "text/plain": [
       "<Figure size 432x288 with 1 Axes>"
      ]
     },
     "metadata": {},
     "output_type": "display_data"
    }
   ],
   "source": [
    "points=[[0,0],[0,0],[3,0.5],[512,404.2319]]\n",
    "for i in range(1,5):\n",
    "    df1=pd.read_csv('./data/'+str(i)+'SGA_final_population.csv',index_col=[0])\n",
    "    df2=pd.read_csv('./data/'+str(i)+'PSO_final_population.csv',index_col=[0])\n",
    "    df3=pd.read_csv('./data/'+str(i)+'GWO_final_population.csv',index_col=[0])\n",
    "    df4=pd.read_csv('./data/'+str(i)+'IGA_final_population.csv',index_col=[0])\n",
    "    df1['algorithm']='SGA'\n",
    "    df2['algorithm']='PSO'\n",
    "    df3['algorithm']='GWO'\n",
    "    df4['algorithm']='IGA'\n",
    "    df_concated=pd.concat([df1,df2,df3,df4], axis=0)\n",
    "\n",
    "    # df_concated['dist']=np.sqrt((df_concated.x-points[i-1][0])**2+(df_concated.y-points[i-1][1])**2)\n",
    "    # df_grouped=df_concated.groupby(['algorithm']).agg({'dist':'mean'})\n",
    "    # SGA_val=df_grouped['dist'][0]\n",
    "    # PSO_val=df_grouped['dist'][1]\n",
    "    # GWO_val=df_grouped['dist'][2]\n",
    "    # IGA_val=df_grouped['dist'][3]\n",
    "    # df1['density']='SGA='+format(SGA_val, \".2f\")\n",
    "    # df2['density']='PSO='+format(PSO_val, \".2f\")\n",
    "    # df3['density']='GWO='+format(GWO_val, \".2f\")\n",
    "    # df4['density']='IGA='+format(IGA_val, \".2f\")\n",
    "    # df_concated=pd.concat([df1,df2,df3,df4], axis=0)\n",
    "\n",
    "    plt.axvline(x=points[i-1][0], ls='--', color='grey')\n",
    "    plt.axhline(y=points[i-1][1], ls='--', color='grey')\n",
    "    sns.scatterplot(x=\"x\", y=\"y\",hue='algorithm',data=df_concated,s=4,alpha=.6)\n",
    "    plt.tight_layout()\n",
    "    # plt.savefig('./images/'+str(i)+'scatterplot.pdf')\n",
    "    plt.show()\n",
    "\n",
    "    # df_grouped=df_concated.groupby(['test_n','algorithm']).agg({'x':'mean','y':'mean'})\n",
    "    # sns.scatterplot(x=\"x\", y=\"y\",hue='algorithm',data=df_grouped)\n",
    "    # plt.savefig('./images/'+str(i)+'scatterplot_mean.pdf')\n",
    "\n",
    "    # df_grouped=df_concated.groupby(['test_n','algorithm']).agg({'z':'min'})\n",
    "    # sns.scatterplot(x=\"x\", y=\"y\",hue='algorithm',data=pd.merge(df_concated,df_grouped,on=['test_n','algorithm','z']).drop_duplicates(['y','z']))\n",
    "    # plt.savefig('./images/'+str(i)+'scatterplot_best.pdf')\n",
    "    plt.cla()"
   ]
  },
  {
   "cell_type": "code",
   "execution_count": 9,
   "metadata": {},
   "outputs": [
    {
     "data": {
      "image/png": "[encoded data removed]",
      "text/plain": [
       "<Figure size 432x288 with 1 Axes>"
      ]
     },
     "metadata": {},
     "output_type": "display_data"
    }
   ],
   "source": [
    "points=[[0,0],[0,0],[3,0.5],[512,404.2319]]\n",
    "for i in range(1,5):\n",
    "    df1=pd.read_csv('./data/'+str(i)+'SGA.csv',index_col=[0])\n",
    "    df2=pd.read_csv('./data/'+str(i)+'PSO.csv',index_col=[0])\n",
    "    df3=pd.read_csv('./data/'+str(i)+'GWO.csv',index_col=[0])\n",
    "    df4=pd.read_csv('./data/'+str(i)+'IGA.csv',index_col=[0])\n",
    "    df1=df1[df1.iter==100]\n",
    "    df2=df2[df2.iter==100]\n",
    "    df3=df3[df3.iter==100]\n",
    "    df4=df4[df4.iter==100]\n",
    "    df1['algorithm']='SGA'\n",
    "    df2['algorithm']='PSO'\n",
    "    df3['algorithm']='GWO'\n",
    "    df4['algorithm']='IGA'\n",
    "    df_concated=pd.concat([df1,df2,df3,df4], axis=0)\n",
    "    plt.axvline(x=points[i-1][0], ls='--', color='grey')\n",
    "    plt.axhline(y=points[i-1][1], ls='--', color='grey')\n",
    "    sns.scatterplot(x=\"x\", y=\"y\",hue='algorithm',data=df_concated)\n",
    "    # plt.savefig('./images/'+str(i)+'scatterplot_best.pdf')\n",
    "    plt.show()\n",
    "    plt.cla()"
   ]
  },
  {
   "cell_type": "markdown",
   "metadata": {},
   "source": [
    "**Three calculation methods:**\n",
    "- the distance of the mean point to object point;\n",
    "- the mean of the distance of 50 points to object point;\n",
    "$$\\text { density }=\\frac{1}{population\\_size} \\sum_{i=1}^{population\\_size} \\operatorname{dist}\\left(a_{i}, o\\right)$$"
   ]
  },
  {
   "cell_type": "code",
   "execution_count": 51,
   "metadata": {},
   "outputs": [
    {
     "name": "stdout",
     "output_type": "stream",
     "text": [
      "          dist\n",
      "kind          \n",
      "GWO   1.899720\n",
      "IGA   1.195677\n",
      "PSO   0.483579\n",
      "SGA   4.219020\n",
      "          dist\n",
      "kind          \n",
      "GWO   2.323956\n",
      "IGA   0.984275\n",
      "PSO   0.422545\n",
      "SGA   4.121035\n",
      "          dist\n",
      "kind          \n",
      "GWO   3.663236\n",
      "IGA   3.109286\n",
      "PSO   0.496000\n",
      "SGA   5.156358\n",
      "            dist\n",
      "kind            \n",
      "GWO   632.883725\n",
      "IGA   253.615794\n",
      "PSO   676.081172\n",
      "SGA   854.301636\n"
     ]
    }
   ],
   "source": [
    "points=[[0,0],[0,0],[3,0.5],[512,404.2319]]\n",
    "for i in range(1,5):\n",
    "    df1=pd.read_csv('./data/'+str(i)+'SGA_final_population.csv',index_col=[0])\n",
    "    df2=pd.read_csv('./data/'+str(i)+'PSO_final_population.csv',index_col=[0])\n",
    "    df3=pd.read_csv('./data/'+str(i)+'GWO_final_population.csv',index_col=[0])\n",
    "    df4=pd.read_csv('./data/'+str(i)+'IGA_final_population.csv',index_col=[0])\n",
    "    df1['kind']='SGA'\n",
    "    df2['kind']='PSO'\n",
    "    df3['kind']='GWO'\n",
    "    df4['kind']='IGA'\n",
    "    df_concated=pd.concat([df1,df2,df3,df4], axis=0)\n",
    "    df_concated['dist']=np.sqrt((df_concated.x-points[i-1][0])**2+(df_concated.y-points[i-1][1])**2)\n",
    "    # print(df_concated.head(10))\n",
    "    df_grouped=df_concated.groupby(['kind']).agg({'dist':'mean'})\n",
    "    print(df_grouped)"
   ]
  },
  {
   "cell_type": "markdown",
   "metadata": {},
   "source": [
    "- the distance of the best point to object point.\n",
    "$$\\text { density }=\\frac{1}{test\\_n} \\sum_{i=1}^{test\\_n} \\operatorname{dist}\\left(a_{best}, o\\right)$$"
   ]
  },
  {
   "cell_type": "code",
   "execution_count": 18,
   "metadata": {},
   "outputs": [
    {
     "name": "stdout",
     "output_type": "stream",
     "text": [
      "kind\n",
      "GWO    0.008130\n",
      "IGA    0.040989\n",
      "PSO    0.144532\n",
      "SGA    2.209750\n",
      "Name: dist, dtype: float64\n",
      "kind\n",
      "GWO    0.044360\n",
      "IGA    0.003750\n",
      "PSO    0.112848\n",
      "SGA    2.026469\n",
      "Name: dist, dtype: float64\n",
      "kind\n",
      "GWO    2.732986\n",
      "IGA    1.584552\n",
      "PSO    0.276638\n",
      "SGA    3.469773\n",
      "Name: dist, dtype: float64\n",
      "kind\n",
      "GWO    385.347194\n",
      "IGA    147.823100\n",
      "PSO    284.187803\n",
      "SGA    886.790405\n",
      "Name: dist, dtype: float64\n"
     ]
    }
   ],
   "source": [
    "points=[[0,0],[0,0],[3,0.5],[512,404.2319]]\n",
    "for i in range(1,5):\n",
    "    df1=pd.read_csv('./data/'+str(i)+'SGA_final_population.csv',index_col=[0])\n",
    "    df2=pd.read_csv('./data/'+str(i)+'PSO_final_population.csv',index_col=[0])\n",
    "    df3=pd.read_csv('./data/'+str(i)+'GWO_final_population.csv',index_col=[0])\n",
    "    df4=pd.read_csv('./data/'+str(i)+'IGA_final_population.csv',index_col=[0])\n",
    "    df1['kind']='SGA'\n",
    "    df2['kind']='PSO'\n",
    "    df3['kind']='GWO'\n",
    "    df4['kind']='IGA'\n",
    "    df_concated=pd.concat([df1,df2,df3,df4], axis=0)\n",
    "    df_grouped=df_concated.groupby(['test_n','kind']).agg({'z':'min'})\n",
    "    df_grouped=pd.merge(df_concated,df_grouped,on=['test_n','kind','z']).drop_duplicates(['y','z'])\n",
    "    df_grouped['dist']=np.sqrt((df_grouped.x-points[i-1][0])**2+(df_grouped.y-points[i-1][1])**2)\n",
    "    df_grouped=df_grouped.groupby('kind')['dist'].mean()\n",
    "    print(df_grouped)"
   ]
  },
  {
   "cell_type": "markdown",
   "metadata": {},
   "source": [
    "## The calculation method of convergence efficiency\n",
    "![](./images/optimized_efficiency_diagram.drawio.svg)\n",
    "$$\n",
    "C E=\\frac{\\operatorname{dist}\\left(start\\_point, object\\right)-C P}{ t_{iteration} }\n",
    "$$"
   ]
  },
  {
   "cell_type": "code",
   "execution_count": 4,
   "metadata": {},
   "outputs": [
    {
     "name": "stdout",
     "output_type": "stream",
     "text": [
      "SGA_CE 99.95991447200902 PSO_CE 99.83075710877317 GWO_CE 99.9944360959148 IGA_CE 99.99999999109555\n",
      "SGA_CE 99.1500373385992 PSO_CE 56.48012321883938 GWO_CE 99.26194225844857 IGA_CE 99.99995363714156\n",
      "SGA_CE 99.90382252453041 PSO_CE 99.57627914584789 GWO_CE 58.81024157163085 IGA_CE 99.99999503328058\n",
      "SGA_CE 65.82243743540457 PSO_CE 0.0 GWO_CE 3.177217902590631e-19 IGA_CE 99.98603832104733\n"
     ]
    },
    {
     "name": "stderr",
     "output_type": "stream",
     "text": [
      "<ipython-input-4-2c19942d6f13>:3: RuntimeWarning: overflow encountered in double_scalars\n",
      "  return 200/(1+np.e**-x)\n"
     ]
    }
   ],
   "source": [
    "def sigmoid(x):\n",
    "    return 200/(1+np.e**-x)\n",
    "\n",
    "dist=0\n",
    "val=[0,0,0,-959.6407]\n",
    "for i in range(1,5):\n",
    "    df1=pd.read_csv('./data/'+str(i)+'SGA.csv',index_col=[0])\n",
    "    df2=pd.read_csv('./data/'+str(i)+'PSO.csv',index_col=[0])\n",
    "    df3=pd.read_csv('./data/'+str(i)+'GWO.csv',index_col=[0])\n",
    "    df4=pd.read_csv('./data/'+str(i)+'IGA.csv',index_col=[0])\n",
    "    df1_grouped=df1[['iter','z','time']].groupby('iter').mean()\n",
    "    df2_grouped=df2[['iter','z','time']].groupby('iter').mean()\n",
    "    df3_grouped=df3[['iter','z','time']].groupby('iter').mean()\n",
    "    df4_grouped=df4[['iter','z','time']].groupby('iter').mean()\n",
    "    # df1_grouped = df1_grouped.drop(df1_grouped[abs(df1.z-val[i-1]) <= 0.001].index)\n",
    "    # df2_grouped = df2_grouped.drop(df2_grouped[abs(df2.z-val[i-1]) <= 0.001].index)\n",
    "    # df3_grouped = df3_grouped.drop(df3_grouped[abs(df3.z-val[i-1]) <= 0.001].index)\n",
    "    # df4_grouped = df4_grouped.drop(df4_grouped[abs(df4.z-val[i-1]) <= 0.001].index)\n",
    "    CE1=(dist-np.abs(df1_grouped.tail(1)['z'].values[0]-val[i-1]))/np.sum(df1_grouped.time)\n",
    "    CE2=(dist-np.abs(df2_grouped.tail(1)['z'].values[0]-val[i-1]))/np.sum(df2_grouped.time)\n",
    "    CE3=(dist-np.abs(df3_grouped.tail(1)['z'].values[0]-val[i-1]))/np.sum(df3_grouped.time)\n",
    "    CE4=(dist-np.abs(df4_grouped.tail(1)['z'].values[0]-val[i-1]))/np.sum(df4_grouped.time)\n",
    "    # print('SGA_CE',CE1,'PSO_CE',CE2,'GWO_CE',CE3,'IGA_CE',CE4)\n",
    "    print('SGA_CE',sigmoid(CE1),'PSO_CE',sigmoid(CE2),'GWO_CE',sigmoid(CE3),'IGA_CE',sigmoid(CE4))"
   ]
  },
  {
   "cell_type": "markdown",
   "metadata": {},
   "source": [
    "## Convergence success rate"
   ]
  },
  {
   "cell_type": "code",
   "execution_count": 35,
   "metadata": {},
   "outputs": [
    {
     "name": "stdout",
     "output_type": "stream",
     "text": [
      "SGA_CS 100 PSO_CS 100 GWO_CS 100 IGA_CS 100\n",
      "SGA_CS 10 PSO_CS 100 GWO_CS 90 IGA_CS 100\n",
      "SGA_CS 90 PSO_CS 100 GWO_CS 0 IGA_CS 100\n",
      "SGA_CS 0 PSO_CS 10 GWO_CS 10 IGA_CS 100\n"
     ]
    }
   ],
   "source": [
    "val=[0,0,0,-959.6407]\n",
    "precision=0.15\n",
    "for i in range(1,5):\n",
    "    df1=pd.read_csv('./data/'+str(i)+'SGA.csv',index_col=[0])\n",
    "    df2=pd.read_csv('./data/'+str(i)+'PSO.csv',index_col=[0])\n",
    "    df3=pd.read_csv('./data/'+str(i)+'GWO.csv',index_col=[0])\n",
    "    df4=pd.read_csv('./data/'+str(i)+'IGA.csv',index_col=[0])\n",
    "    df1=np.abs(df1[['z']][df1['iter']==100]-val[i-1])<=precision\n",
    "    SGA_CS=df1.sum().values[0]*10\n",
    "    df2=np.abs(df2[['z']][df2['iter']==100]-val[i-1])<=precision\n",
    "    PSO_CS=df2.sum().values[0]*10\n",
    "    df3=np.abs(df3[['z']][df3['iter']==100]-val[i-1])<=precision\n",
    "    GWO_CS=df3.sum().values[0]*10\n",
    "    df4=np.abs(df4[['z']][df4['iter']==100]-val[i-1])<=precision\n",
    "    IGA_CS=df4.sum().values[0]*10\n",
    "    print('SGA_CS',SGA_CS,'PSO_CS',PSO_CS,'GWO_CS',GWO_CS,'IGA_CS',IGA_CS)"
   ]
  },
  {
   "cell_type": "markdown",
   "metadata": {},
   "source": [
    "## T-test"
   ]
  },
  {
   "cell_type": "markdown",
   "metadata": {},
   "source": [
    "**Calculation formula of T-test statistics of two independent samples:**\n",
    "$$\n",
    "t=\\frac{\\bar{X}_{1}-\\bar{X}_{2}}{\\sqrt{\\frac{\\left(n_{1}-1\\right) S_{1}^{2}+\\left(n_{2}-1\\right) S_{2}^{2}}{n_{1}+n_{2}-2}\\left(\\frac{1}{n_{1}}+\\frac{1}{n_{2}}\\right)}}\n",
    "$$\n",
    "- $S_{1}^{2}$ and $S_{2}^{2}$ are two samples' variances;\n",
    "- $n_{1}$ and $n_{2}$ are two samples' capacities."
   ]
  },
  {
   "cell_type": "code",
   "execution_count": 3,
   "metadata": {},
   "outputs": [
    {
     "name": "stdout",
     "output_type": "stream",
     "text": [
      "Ttest_indResult(statistic=2.557064210292568, pvalue=0.03083528821407171)\n",
      "Ttest_indResult(statistic=2.967331343214706, pvalue=0.015770229471890777)\n",
      "Ttest_indResult(statistic=1.1957297290221345, pvalue=0.2623549244770174)\n",
      "Ttest_indResult(statistic=0.0, pvalue=1.0)\n",
      "-------------\n",
      "Ttest_indResult(statistic=7.542595932463458, pvalue=3.531482160594731e-05)\n",
      "Ttest_indResult(statistic=4.908519658104921, pvalue=0.0007746506420080547)\n",
      "Ttest_indResult(statistic=1.3100144333219232, pvalue=0.22263612987412884)\n",
      "Ttest_indResult(statistic=0.0, pvalue=1.0)\n",
      "-------------\n",
      "Ttest_indResult(statistic=2.586232125059493, pvalue=0.02939121054090686)\n",
      "Ttest_indResult(statistic=-2.7955862589119804, pvalue=0.020620262569794885)\n",
      "Ttest_indResult(statistic=3.170184367802356, pvalue=0.011362608853013332)\n",
      "Ttest_indResult(statistic=0.0, pvalue=1.0)\n",
      "-------------\n",
      "Ttest_indResult(statistic=3.8907905360557224, pvalue=0.0036705297291509086)\n",
      "Ttest_indResult(statistic=2.934035900285109, pvalue=0.016647386177424204)\n",
      "Ttest_indResult(statistic=3.706632412490735, pvalue=0.004870296991009041)\n",
      "Ttest_indResult(statistic=0.0, pvalue=1.0)\n",
      "-------------\n"
     ]
    }
   ],
   "source": [
    "from scipy import stats\n",
    "from scipy.stats import f\n",
    "val=[0,0,0,-959.6407]\n",
    "precision=0.15\n",
    "for i in range(1,5):\n",
    "    df1=pd.read_csv('./data/'+str(i)+'SGA.csv',index_col=[0])\n",
    "    df2=pd.read_csv('./data/'+str(i)+'PSO.csv',index_col=[0])\n",
    "    df3=pd.read_csv('./data/'+str(i)+'GWO.csv',index_col=[0])\n",
    "    df4=pd.read_csv('./data/'+str(i)+'IGA.csv',index_col=[0])\n",
    "    df1=df1[['z']][df1['iter']==100]\n",
    "    df2=df2[['z']][df2['iter']==100]\n",
    "    df3=df3[['z']][df3['iter']==100]\n",
    "    df4=df4[['z']][df4['iter']==100]\n",
    "    # Levene test determines that the samples do not have homogeneity of variance;\n",
    "    # print(stats.levene(df1.z,df4.z))\n",
    "    # print(stats.levene(df2.z,df4.z))\n",
    "    # print(stats.levene(df3.z,df4.z))\n",
    "    # print(stats.levene(df4.z,df4.z))\n",
    "    # T-test for two independent samples;\n",
    "    print(stats.ttest_ind(df1.z,df4.z,equal_var=False))\n",
    "    print(stats.ttest_ind(df2.z,df4.z,equal_var=False))\n",
    "    print(stats.ttest_ind(df3.z,df4.z,equal_var=False))\n",
    "    print(stats.ttest_ind(df4.z,df4.z,equal_var=False))\n",
    "    # pared-samples T-test;\n",
    "    # print(stats.ttest_rel(df1.z,df4.z, axis=0, nan_policy='propagate'))\n",
    "    # print(stats.ttest_rel(df2.z,df4.z, axis=0, nan_policy='propagate'))\n",
    "    # print(stats.ttest_rel(df3.z,df4.z, axis=0, nan_policy='propagate'))\n",
    "    # print(stats.ttest_rel(df4.z,df4.z, axis=0, nan_policy='propagate'))\n",
    "    # print(df1.z.min(),df1.z.max(),df1.z.mean(),df1.z.median(),df1.z.std())\n",
    "    # print(df2.z.min(),df2.z.max(),df2.z.mean(),df2.z.median(),df2.z.std())\n",
    "    # print(df3.z.min(),df3.z.max(),df3.z.mean(),df3.z.median(),df3.z.std())\n",
    "    # print(df4.z.min(),df4.z.max(),df4.z.mean(),df4.z.median(),df4.z.std())\n",
    "    print('-------------')\n",
    "    # df1['algorithm']='SGA'\n",
    "    # df2['algorithm']='PSO'\n",
    "    # df3['algorithm']='GWO'\n",
    "    # df4['algorithm']='IGA'\n",
    "    # df_concated=pd.concat([df1,df2,df3,df4], axis=0)\n",
    "    # sns.boxplot(x=\"algorithm\", y=\"z\", data=df_concated)\n",
    "    # plt.ylabel('f(x)')\n",
    "    # plt.savefig('./images/'+str(i)+'boxplot.pdf')\n",
    "    # plt.show()"
   ]
  }
 ],
 "metadata": {
  "interpreter": {
   "hash": "066fd50f6303ca93f066aaca5c884742db08e6980e3ea053bd84db50f3f21806"
  },
  "kernelspec": {
   "display_name": "Python 3.8.8 64-bit ('base': conda)",
   "language": "python",
   "name": "python3"
  },
  "language_info": {
   "codemirror_mode": {
    "name": "ipython",
    "version": 3
   },
   "file_extension": ".py",
   "mimetype": "text/x-python",
   "name": "python",
   "nbconvert_exporter": "python",
   "pygments_lexer": "ipython3",
   "version": "3.8.8"
  },
  "orig_nbformat": 4
 },
 "nbformat": 4,
 "nbformat_minor": 2
}
