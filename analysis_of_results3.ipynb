{
 "cells": [
  {
   "cell_type": "code",
   "execution_count": 53,
   "metadata": {},
   "outputs": [],
   "source": [
    "from matplotlib import pyplot as plt\n",
    "import pandas as pd\n",
    "import seaborn as sns\n",
    "import numpy as np\n",
    "sns.set_theme(style=\"darkgrid\", palette=\"tab10\", font='Times New Roman')\n",
    "from scipy.stats import ranksums"
   ]
  },
  {
   "cell_type": "code",
   "execution_count": 95,
   "metadata": {},
   "outputs": [],
   "source": [
    "dim=10\n",
    "for dim in [10,30,50,100]:\n",
    "    output=pd.DataFrame()\n",
    "    for i in range(1,12):\n",
    "        temp=pd.read_csv('./data3/'+str(i)+'_'+str(dim)+'.csv')\n",
    "        temp=temp[temp['Unnamed: 0']==100]\n",
    "        _,p1=ranksums(temp.SGA, temp.IGA)\n",
    "        _,p2=ranksums(temp.PSO, temp.IGA)\n",
    "        _,p3=ranksums(temp.GWO, temp.IGA)\n",
    "        _,p4=ranksums(temp.IGA, temp.IGA)\n",
    "        temp=temp[['SGA','PSO','GWO','IGA']].agg(['min','max','mean','median','std'])\n",
    "        temp=temp.T\n",
    "        temp['P-value']=[p1,p2,p3,p4]\n",
    "        temp.reset_index(inplace=True)\n",
    "        temp.rename(columns={'index':'Alg','min':'Min','max':'Max','mean':'Mean','median':'Median','std':'Std'},inplace=True)\n",
    "        temp.insert(0,'Fun',['F'+str(i),' ',' ',' '])\n",
    "        output=pd.concat([output,temp])\n",
    "    output.to_excel('./output3/'+str(dim)+'.xlsx')"
   ]
  }
 ],
 "metadata": {
  "interpreter": {
   "hash": "066fd50f6303ca93f066aaca5c884742db08e6980e3ea053bd84db50f3f21806"
  },
  "kernelspec": {
   "display_name": "Python 3.8.8 ('base')",
   "language": "python",
   "name": "python3"
  },
  "language_info": {
   "codemirror_mode": {
    "name": "ipython",
    "version": 3
   },
   "file_extension": ".py",
   "mimetype": "text/x-python",
   "name": "python",
   "nbconvert_exporter": "python",
   "pygments_lexer": "ipython3",
   "version": "3.8.8"
  },
  "orig_nbformat": 4
 },
 "nbformat": 4,
 "nbformat_minor": 2
}
